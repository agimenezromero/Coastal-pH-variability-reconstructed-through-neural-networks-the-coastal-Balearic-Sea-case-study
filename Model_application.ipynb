{
 "cells": [
  {
   "cell_type": "code",
   "execution_count": null,
   "metadata": {},
   "outputs": [],
   "source": [
    "import numpy as np\n",
    "import pandas as pd\n",
    "\n",
    "import matplotlib.pyplot as plt\n",
    "\n",
    "import tensorflow as tf\n",
    "\n",
    "def RNN_dataset_pred(data, n_times, n_features):\n",
    "    \n",
    "    X = np.zeros((len(data)-n_times, n_times, n_features))\n",
    "\n",
    "    for i in range(len(data) - n_times):\n",
    "\n",
    "        X[i] = data[i:n_times+i, 0:n_features]\n",
    "        \n",
    "    return X"
   ]
  },
  {
   "cell_type": "markdown",
   "metadata": {},
   "source": [
    "# Palma"
   ]
  },
  {
   "cell_type": "code",
   "execution_count": null,
   "metadata": {},
   "outputs": [],
   "source": [
    "# Load the data\n",
    "df = pd.read_csv(\"Data/Palma_Bay.csv\")\n",
    "\n",
    "df[\"Time\"] = pd.to_datetime(df[\"Time\"])\n",
    "\n",
    "data = df[[\"Temperature\", \"Oxygen\", \"Salinity\"]].values\n",
    "\n",
    "ph = df[\"PH\"]\n",
    "\n",
    "# Load model\n",
    "model = tf.keras.models.load_model(\"Bidirectional_LSTM_Palma_final.h5\")\n",
    "\n",
    "# Load the scaler\n",
    "scaler_min = np.array([ -0.51341574,  -0.76354829, -24.94274023, -45.96683171])\n",
    "scaler_scale = np.array([5.23054890e-02, 5.03591059e-03, 6.77296458e-01, 5.76839879e+00])\n",
    "\n",
    "# Scale the data\n",
    "scaled_data = scaler_min[0:data.shape[-1]] + data * scaler_scale[0:data.shape[-1]]\n",
    "\n",
    "# Process data\n",
    "window_size = 6\n",
    "\n",
    "n_features = data.shape[-1]\n",
    "\n",
    "X_to_predict = RNN_dataset_pred(scaled_data, window_size, n_features)\n",
    "\n",
    "# Predict\n",
    "predictions = model.predict(X_to_predict)\n",
    "\n",
    "predictions_rescaled = (predictions - scaler_min[-1]) / scaler_scale[-1]\n",
    "\n",
    "# plot the results\n",
    "plt.figure(figsize=(12, 6))\n",
    "\n",
    "plt.plot(df[\"Time\"][window_size:], ph[window_size:], label=\"Measured\")\n",
    "\n",
    "plt.plot(df[\"Time\"][window_size:], predictions_rescaled[:, 0], label=\"Predicted\")\n",
    "\n",
    "plt.legend()"
   ]
  },
  {
   "cell_type": "markdown",
   "metadata": {},
   "source": [
    "# Cabrera"
   ]
  },
  {
   "cell_type": "code",
   "execution_count": null,
   "metadata": {},
   "outputs": [],
   "source": [
    "# Load the data\n",
    "df = pd.read_csv(\"Data/Cabrera.csv\")\n",
    "\n",
    "df[\"Time\"] = pd.to_datetime(df[\"Time\"])\n",
    "\n",
    "data = df[[\"Temperature\", \"Oxygen\", \"Salinity\"]].values\n",
    "\n",
    "ph = df[\"PH\"]\n",
    "\n",
    "# Load model\n",
    "model = tf.keras.models.load_model(\"Bidirectional_LSTM_Cabrera_final.h5\")\n",
    "\n",
    "# Load the scaler\n",
    "scaler_min = np.array([ -1.09885144,  -2.57771576, -34.10509873, -32.5783695 ])\n",
    "scaler_scale = np.array([0.07675645, 0.01383971, 0.92683059, 4.10445847])\n",
    "# Scale the data\n",
    "scaled_data = scaler_min[0:data.shape[-1]] + data * scaler_scale[0:data.shape[-1]]\n",
    "\n",
    "# Process data\n",
    "window_size = 6\n",
    "\n",
    "n_features = data.shape[-1]\n",
    "\n",
    "X_to_predict = RNN_dataset_pred(scaled_data, window_size, n_features)\n",
    "\n",
    "# Predict\n",
    "predictions = model.predict(X_to_predict)\n",
    "\n",
    "predictions_rescaled = (predictions - scaler_min[-1]) / scaler_scale[-1]\n",
    "\n",
    "# plot the results\n",
    "plt.figure(figsize=(12, 6))\n",
    "\n",
    "plt.plot(df[\"Time\"][window_size:], ph[window_size:], label=\"Measured\")\n",
    "\n",
    "plt.plot(df[\"Time\"][window_size:], predictions_rescaled[:, 0], label=\"Predicted\")\n",
    "\n",
    "plt.legend()"
   ]
  }
 ],
 "metadata": {
  "kernelspec": {
   "display_name": "camele",
   "language": "python",
   "name": "python3"
  },
  "language_info": {
   "codemirror_mode": {
    "name": "ipython",
    "version": 3
   },
   "file_extension": ".py",
   "mimetype": "text/x-python",
   "name": "python",
   "nbconvert_exporter": "python",
   "pygments_lexer": "ipython3",
   "version": "3.11.3"
  }
 },
 "nbformat": 4,
 "nbformat_minor": 2
}
